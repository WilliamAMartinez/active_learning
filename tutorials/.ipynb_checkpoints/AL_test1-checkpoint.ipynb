{
 "cells": [
  {
   "cell_type": "markdown",
   "metadata": {},
   "source": [
    "# First active learning exercise\n",
    "### By William Martinez\n",
    "\n",
    "Accuracy in a supervised classification of a satellite image can depend on several factors such as quality of the training data, type of algorithm, explanatory variables, minimum mapping unit and so on. I want with this report to identify the training data that support the most to the classification performance of one image of 2017 covering the center of Portugal. Also, this can lead to identifying how spatially the accuracy response to the data so that we can identify hotspot and therefore an exploration of more data.\n",
    "\n",
    "I will start calling the packages that we will use during this session such as skelearn, pandas, ogr and numpy.\n"
   ]
  },
  {
   "cell_type": "code",
   "execution_count": 10,
   "metadata": {},
   "outputs": [],
   "source": [
    "import sklearn\n",
    "from sklearn.datasets import load_iris\n",
    "from sklearn.preprocessing import MinMaxScaler\n",
    "import numpy as np\n",
    "from sklearn.metrics import accuracy_score\n",
    "from sklearn.svm import SVC\n",
    "import pandas as pd"
   ]
  },
  {
   "cell_type": "markdown",
   "metadata": {},
   "source": [
    "Let's call the shapefile using following function"
   ]
  },
  {
   "cell_type": "code",
   "execution_count": 11,
   "metadata": {},
   "outputs": [],
   "source": [
    "from osgeo import gdal, ogr\n",
    "\n",
    "def import_data_shp(path_shape):\n",
    "    driver = ogr.GetDriverByName(\"ESRI Shapefile\")\n",
    "    data_source =  driver.Open(path_shape)\n",
    "    layer =  data_source.GetLayer()\n",
    "    layer_defn = layer.GetLayerDefn()\n",
    "    count_field = layer_defn.GetFieldCount()\n",
    "    print(layer_defn.GetFieldDefn(0).GetType)\n",
    "    fc = layer.GetFeatureCount()  # number of rows\n",
    "    proj = layer.GetSpatialRef()  #projection\n",
    "    #Getting name of the fields of the Shapefile\n",
    "    schema = []\n",
    "    #variables\n",
    "    for k in range(0,count_field):\n",
    "        f_field = layer_defn.GetFieldDefn(k)\n",
    "        schema.append(f_field.name)\n",
    "    #importing features\n",
    "    x = []\n",
    "    y = []\n",
    "    data = []\n",
    "    coordinates = []\n",
    "    sp_obj = {}\n",
    "    for feat in layer:\n",
    "        #coordinates\n",
    "        pt = feat.geometry()\n",
    "        coord_par = [pt.GetX(),pt.GetY()]\n",
    "        coordinates.append(coord_par)\n",
    "        #variables\n",
    "        fields = []\n",
    "        for i in range(0, count_field):\n",
    "            f = feat.GetField(i)\n",
    "            fields.append(f)\n",
    "        #second part\n",
    "        data.append(fields)\n",
    "    #array of data in data frame format\n",
    "    #for string\n",
    "    dataset = pd.DataFrame(data,columns = schema)\n",
    "    #coordinates\n",
    "    coord_df = pd.DataFrame(np.array(coordinates),columns = [\"x\",\"y\"])\n",
    "    sp_obj = {\n",
    "    \"coordinates\":coord_df,\n",
    "    \"data\":dataset,\n",
    "    \"proj\":proj\n",
    "    }\n",
    "    #returning object\n",
    "    return(sp_obj)"
   ]
  },
  {
   "cell_type": "markdown",
   "metadata": {},
   "source": [
    "Once we have created the function, I want to call a dataset that consists of 6 categories of land cover that are uniformly distributed in the sampling, 700 samples by category. In this context, our classes are 'herbaceous', 'Non--vegetated', 'sealed', 'water', 'wetlands', 'woody'. "
   ]
  },
  {
   "cell_type": "code",
   "execution_count": 12,
   "metadata": {},
   "outputs": [
    {
     "name": "stdout",
     "output_type": "stream",
     "text": [
      "<bound method FieldDefn.GetType of <osgeo.ogr.FieldDefn; proxy of <Swig Object of type 'OGRFieldDefnShadow *' at 0x7fcf01ccf8d0> >>\n"
     ]
    }
   ],
   "source": [
    "shapefile = 'IM_20170729/training_samples11.shp' \n",
    "dataset = import_data_shp(shapefile)['data']"
   ]
  },
  {
   "cell_type": "markdown",
   "metadata": {},
   "source": [
    "Once the dataset is in this environment, we will implement a normalization and thereafter active learning procedures using support vector machine as predictor"
   ]
  },
  {
   "cell_type": "code",
   "execution_count": 15,
   "metadata": {},
   "outputs": [
    {
     "name": "stdout",
     "output_type": "stream",
     "text": [
      "Normalizing min-max\n"
     ]
    }
   ],
   "source": [
    "#Normalization\n",
    "\n",
    "class Normalize:\n",
    "\n",
    "    print('Normalizing min-max')\n",
    "\n",
    "    def normalize(self, X):\n",
    "        self.scaler = MinMaxScaler()\n",
    "        X_normal = self.scaler.fit_transform(X)\n",
    "        return (X_normal)\n",
    "\n",
    "#random selection\n",
    "\n",
    "def split(dataset,size_train):\n",
    "    #size of the dataset\n",
    "    n_x,n_y = dataset.shape\n",
    "    y = dataset.CLASS_NAME.values\n",
    "    X = dataset.iloc[:,1:].values\n",
    "    X_n = Normalize()\n",
    "    X_normal = X_n.normalize(X)\n",
    "    #random index\n",
    "    np.random.seed(1)\n",
    "    index_random = np.random.choice(X_normal.shape[0],X_normal.shape[0], replace= False)\n",
    "    #counting\n",
    "    st = np.int(n_x*size_train)\n",
    "    #train\n",
    "    X_train = X_normal[index_random[:st]]\n",
    "    y_train = y[index_random[:st]]\n",
    "    #test\n",
    "    X_test = X_normal[index_random[st:]]\n",
    "    y_test = y[index_random[st:]]\n",
    "    return(X_train, y_train, X_test, y_test)\n",
    "\n",
    "\n",
    "#Entropies\n",
    "\n",
    "class measureselection():\n",
    "    def EntropySelection(self, probabilities):\n",
    "        def entropyfunc(x):\n",
    "            #ind = np.where(x != 0)[0]\n",
    "            e = -(x * np.log2(x)).sum()\n",
    "            return(e)\n",
    "        #implementing function\n",
    "        entropy = np.apply_along_axis(entropyfunc, 1, probabilities)\n",
    "        #fransforming entropie values in probabilities using sof-max function\n",
    "        def softmax(y):\n",
    "            delta = np.exp(y)/np.sum(np.exp(y))\n",
    "            return delta\n",
    "        self.entropy = softmax(entropy)\n",
    "        #print(self.entropy.shape)\n",
    "        return(self.entropy)\n",
    "\n",
    "class SvmModel():\n",
    "    model_type = 'Support Vector Machine with rbf Kernel'\n",
    "    def fit_predict(self, X_val, y_val, X_train, X_test):\n",
    "        #print ('training svm...')\n",
    "        self.classifier = SVC(C=2, kernel = 'rbf',gamma= 0.25, probability=True)\n",
    "        self.classifier.fit(X_val, y_val)\n",
    "        self.train_y_predicted = self.classifier.predict(X_train)\n",
    "        self.test_y_predicted = self.classifier.predict(X_test)\n",
    "        self.train_y_probability = self.classifier.predict_proba(X_train)\n",
    "        return(self.train_y_predicted , self.train_y_probability, self.test_y_predicted)"
   ]
  },
  {
   "cell_type": "markdown",
   "metadata": {},
   "source": [
    "The above functions support the fowllowing code. I am basically running a sort of boosting"
   ]
  },
  {
   "cell_type": "code",
   "execution_count": 16,
   "metadata": {},
   "outputs": [],
   "source": [
    "a = 200\n",
    "q = 20\n",
    "X_train, y_train, X_test, y_test =  split(dataset,size_train = 0.7)\n",
    "n,_= X_train.shape\n",
    "prob = np.repeat(1/n,n).tolist()\n",
    "dict_oa = {}\n",
    "OA_train_list = []\n",
    "OA_test_list = []\n",
    "for i in range(a,n,q):\n",
    "    #weigthed random selection\n",
    "    l =  np.random.choice(n,i,replace=False,p=prob)\n",
    "    X_val = X_train[l]\n",
    "    y_val = y_train[l]\n",
    "    svm = SvmModel()\n",
    "    train_y_predicted , train_y_probability, test_y_predicted = svm.fit_predict(X_val, y_val, X_train, X_test)\n",
    "    OA_train = accuracy_score(train_y_predicted, y_train)\n",
    "    OA_test = accuracy_score(test_y_predicted, y_test)\n",
    "    #print(f'Overall accuracy training set {OA_train}')\n",
    "    #print(f'Overall accuracy test set {OA_test}')\n",
    "    #saving data in a dictionary\n",
    "    OA_train_list.append(OA_train)\n",
    "    OA_test_list.append(OA_test)\n",
    "    #updating again porbabilities\n",
    "    ms =  measureselection()\n",
    "    prob = ms.EntropySelection(train_y_probability).tolist()\n",
    "\n",
    "dict_oa[\"iter\"] =  list(range(a,n,q))\n",
    "dict_oa[\"train\"] = OA_train_list\n",
    "dict_oa[\"test\"] =  OA_test_list\n",
    "\n",
    "#plot\n",
    "df = pd.DataFrame.from_dict(dict_oa)\n"
   ]
  },
  {
   "cell_type": "code",
   "execution_count": 17,
   "metadata": {},
   "outputs": [
    {
     "data": {
      "image/png": "[encoded data removed]",
      "text/plain": [
       "<matplotlib.figure.Figure at 0x7fcf01558dd8>"
      ]
     },
     "metadata": {
      "needs_background": "light"
     },
     "output_type": "display_data"
    }
   ],
   "source": [
    "#visualiztion\n",
    "import matplotlib.pyplot as plt\n",
    "ax = plt.gca()\n",
    "\n",
    "df.plot(kind='line', x ='iter', y = 'train', ax=ax)\n",
    "df.plot(kind='line', x ='iter', y = 'test',color='red',  ax=ax)\n",
    "plt.show()"
   ]
  },
  {
   "cell_type": "markdown",
   "metadata": {},
   "source": [
    "What makes special this graphic is the range of the curve. Once the curve reaches 2000 samples the accuracy starts to stabilize and become linear, so that we find redundant data that not support anymore a better performance in the prediction. With this script, we set out the search for which samples are those which leads to explain this variability..."
   ]
  },
  {
   "cell_type": "code",
   "execution_count": null,
   "metadata": {},
   "outputs": [],
   "source": []
  }
 ],
 "metadata": {
  "kernelspec": {
   "display_name": "Python 3",
   "language": "python",
   "name": "python3"
  },
  "language_info": {
   "codemirror_mode": {
    "name": "ipython",
    "version": 3
   },
   "file_extension": ".py",
   "mimetype": "text/x-python",
   "name": "python",
   "nbconvert_exporter": "python",
   "pygments_lexer": "ipython3",
   "version": "3.6.7"
  }
 },
 "nbformat": 4,
 "nbformat_minor": 2
}
